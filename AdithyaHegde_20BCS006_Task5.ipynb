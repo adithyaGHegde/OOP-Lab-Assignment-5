{
  "nbformat": 4,
  "nbformat_minor": 0,
  "metadata": {
    "colab": {
      "name": "AdithyaHegde_20BCS006_Task5.ipynb",
      "provenance": [],
      "authorship_tag": "ABX9TyNVM/zTwLX3cOy/SdwA6k8o",
      "include_colab_link": true
    },
    "kernelspec": {
      "name": "python3",
      "display_name": "Python 3"
    },
    "language_info": {
      "name": "python"
    }
  },
  "cells": [
    {
      "cell_type": "markdown",
      "metadata": {
        "id": "view-in-github",
        "colab_type": "text"
      },
      "source": [
        "<a href=\"https://colab.research.google.com/github/adithyaGHegde/OOP-Lab-Assignment-5/blob/main/AdithyaHegde_20BCS006_Task5.ipynb\" target=\"_parent\"><img src=\"https://colab.research.google.com/assets/colab-badge.svg\" alt=\"Open In Colab\"/></a>"
      ]
    },
    {
      "cell_type": "markdown",
      "metadata": {
        "id": "xpNGrcThHP8a"
      },
      "source": [
        "1. Write a Python programme to create the parent class shape, derive the subclasses circle,\n",
        "square, and rectangle from the class shape, and demonstrate polymorphism in inheritance\n",
        "using a member function area ()."
      ]
    },
    {
      "cell_type": "code",
      "metadata": {
        "colab": {
          "base_uri": "https://localhost:8080/"
        },
        "id": "o2IX-x2ZZSZj",
        "outputId": "c3b108c7-2e69-45e2-91a4-584142aefdaf"
      },
      "source": [
        "from math import pi\n",
        "\n",
        "class Shape:\n",
        "    def __init__(self, name):\n",
        "        self.name = name\n",
        "\n",
        "class Square(Shape):\n",
        "  def __init__(self, side):\n",
        "    super().__init__(\"Square\")\n",
        "    self.side = side\n",
        "\n",
        "  def area(self):\n",
        "    print(\"Area of a square is\", self.side**2)\n",
        "\n",
        "\n",
        "class Circle(Shape):\n",
        "  def __init__(self, radius):\n",
        "    super().__init__(\"Circle\")\n",
        "    self.radius = radius\n",
        "\n",
        "  def area(self):\n",
        "    print(\"Area of a circle is\",pi*self.radius**2)\n",
        "\n",
        "class Rectangle(Shape):\n",
        "  def __init__(self,length,breadth):\n",
        "    super().__init__(\"Rectangle\")\n",
        "    self.length = length\n",
        "    self.breadth = breadth\n",
        "\n",
        "  def area(self):\n",
        "    print(\"Area of a rectangle is\",self.length*self.breadth)\n",
        "\n",
        "circle = Circle(4)\n",
        "circle.area()\n",
        "\n",
        "square = Square(4)\n",
        "square.area()\n",
        "\n",
        "rectangle = Rectangle(4,5)\n",
        "rectangle.area()\n"
      ],
      "execution_count": 23,
      "outputs": [
        {
          "output_type": "stream",
          "name": "stdout",
          "text": [
            "Area of a circle is 50.26548245743669\n",
            "Area of a square is 16\n",
            "Area of a rectangle is 20\n"
          ]
        }
      ]
    },
    {
      "cell_type": "markdown",
      "metadata": {
        "id": "nqYcviVIH_jA"
      },
      "source": [
        "2. The family has decided to travel by road from Dharwad to Belagavi, and they have\n",
        "chosen to estimate the cost before starting on this journey. Write python code to create\n",
        "the parent class Travel with member functions include the number of passengers, the\n",
        "distance travelled, and the mode of transportation. Derive two subclasses, train and bus,\n",
        "from the parent class, each with a member function that calculates the cost of trip. Also,\n",
        "keep the numbers of passengers as a private member of the parent class and try to access\n",
        "it through the child class to estimate costs.\n",
        "[Note: Assume cost of travelling/person through train = 60 rs, cost of travelling /person\n",
        "through bus= 100 rs]."
      ]
    },
    {
      "cell_type": "code",
      "metadata": {
        "colab": {
          "base_uri": "https://localhost:8080/"
        },
        "id": "k77faP74aP9g",
        "outputId": "906f318d-d90a-4591-a34f-17458f7e7aeb"
      },
      "source": [
        "class Travel:\n",
        "  def __init__(self,numberOfPassengers,distanceTravelled,modeOfTransport):\n",
        "    self.numberOfPassengers = numberOfPassengers        \n",
        "    self.distanceTravelled = distanceTravelled\n",
        "    self.modeOfTransport = modeOfTransport\n",
        "\n",
        "class Train(Travel):\n",
        "  def __init__(self,__numberOfPassengers,distanceTravelled,modeOfTransport=\"Train\"):\n",
        "    super().__init__(__numberOfPassengers,distanceTravelled,modeOfTransport)\n",
        "\n",
        "  def costOfTrip(self):\n",
        "    cost = self.numberOfPassengers*self.distanceTravelled*60\n",
        "    print(\"Cost of trip in {} for {} passengers is {}.\".format(self.modeOfTransport,self.numberOfPassengers,cost))\n",
        "\n",
        "class Bus(Travel):\n",
        "  def __init__(self,numberOfPassengers,distanceTravelled,modeOfTransport=\"Bus\"):\n",
        "    super().__init__(numberOfPassengers,distanceTravelled,modeOfTransport)\n",
        "\n",
        "  def costOfTrip(self):\n",
        "    cost = self.numberOfPassengers*self.distanceTravelled*100\n",
        "    print(\"Cost of trip in {} for {} passengers is {}.\".format(self.modeOfTransport,self.numberOfPassengers,cost))\n",
        "\n",
        "train = Train(5,100)\n",
        "bus = Bus(5,100)\n",
        "\n",
        "train.costOfTrip()\n",
        "bus.costOfTrip()"
      ],
      "execution_count": 34,
      "outputs": [
        {
          "output_type": "stream",
          "name": "stdout",
          "text": [
            "Cost of trip in Train for 5 passengers is 30000.\n",
            "Cost of trip in Bus for 5 passengers is 50000.\n"
          ]
        }
      ]
    },
    {
      "cell_type": "markdown",
      "metadata": {
        "id": "lFTwa3I2IASv"
      },
      "source": [
        "3. Assume that there a class Car with model number as its member variable. Write a python\n",
        "program to swap the values of model number in Car objects c1 and c2."
      ]
    },
    {
      "cell_type": "code",
      "metadata": {
        "id": "gen5sI1FIDpz",
        "colab": {
          "base_uri": "https://localhost:8080/"
        },
        "outputId": "ad8d36d7-7edb-4ebd-d4a0-bc74ed8790b7"
      },
      "source": [
        "class Car:\n",
        "  def __init__(self,model):\n",
        "    self.model_number = model\n",
        "\n",
        "c1 = Car(\"AB001\")\n",
        "c2 = Car(\"AB002\")\n",
        "\n",
        "print(\"Before swap: \")\n",
        "print(\"Car 1: \",c1.model_number)\n",
        "print(\"Car 2: \",c2.model_number)\n",
        "\n",
        "c1.model_number,c2.model_number = c2.model_number,c1.model_number\n",
        "\n",
        "print(\"After swap: \")\n",
        "print(\"Car 1: \",c1.model_number)\n",
        "print(\"Car 2: \",c2.model_number)"
      ],
      "execution_count": 35,
      "outputs": [
        {
          "output_type": "stream",
          "name": "stdout",
          "text": [
            "Before swap: \n",
            "Car 1:  AB001\n",
            "Car 2:  AB002\n",
            "After swap: \n",
            "Car 1:  AB002\n",
            "Car 2:  AB001\n"
          ]
        }
      ]
    }
  ]
}